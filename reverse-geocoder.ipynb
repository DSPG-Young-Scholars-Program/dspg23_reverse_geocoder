{
 "cells": [
  {
   "cell_type": "code",
   "execution_count": 1,
   "id": "bc7f63cc",
   "metadata": {},
   "outputs": [],
   "source": [
    "#Import libraries\n",
    "from geopy.geocoders import Nominatim\n",
    "from geopy.exc import GeocoderTimedOut\n",
    "from geopy.extra.rate_limiter import RateLimiter\n",
    "from geopy.point import Point\n",
    "\n",
    "import pandas as pd\n",
    "import geopandas as gpd\n",
    "import numpy as np"
   ]
  },
  {
   "cell_type": "code",
   "execution_count": 2,
   "id": "df7153bc",
   "metadata": {},
   "outputs": [],
   "source": [
    "#reads in National Address Database data for the Bronx (36005) - 'bronx_data'\n",
    "file_path = '../dspg23_reverse_geocoder/Data/36005.csv'\n",
    "bronx_data = pd.read_csv(file_path)"
   ]
  },
  {
   "cell_type": "code",
   "execution_count": 3,
   "id": "6de59959",
   "metadata": {},
   "outputs": [],
   "source": [
    "#Creates Reverse geocoder tool\n",
    "\n",
    "#Input: df w/ a 'latitude' and 'longitude' column, Output: df with updated 'address' column\n",
    "\n",
    "def reverse_geocode_tool(df):\n",
    "    #Creates Geo column: combines latitude and longitude \n",
    "    df[\"Geo\"] = df[\"latitude\"].astype(str)+ ',' + df[\"longitude\"].astype(str)\n",
    "    \n",
    "    geolocator = Nominatim(user_agent=\"reverse_geocoder\", timeout=10)\n",
    "    \n",
    "    rgeocode = RateLimiter(geolocator.reverse, min_delay_seconds=0.001)\n",
    "    \n",
    "    #Reverse geocodes 'Geo' column and populates 'address' column with results\n",
    "    df['address'] = df['Geo'].apply(rgeocode)\n",
    "    \n",
    "    return df"
   ]
  },
  {
   "cell_type": "code",
   "execution_count": 4,
   "id": "bcd72537",
   "metadata": {},
   "outputs": [],
   "source": [
    "#'Missing_data': df containing all the rows of 'bronx_data' that have missing values in 'address' columns\n",
    "missing_data = bronx_data[bronx_data['address'].isna()]"
   ]
  },
  {
   "cell_type": "code",
   "execution_count": 5,
   "id": "1d3557b5",
   "metadata": {},
   "outputs": [
    {
     "name": "stderr",
     "output_type": "stream",
     "text": [
      "/var/folders/8z/5tmywm6s11d187fc5fg_fgb80000gn/T/ipykernel_22220/326869575.py:6: UserWarning: Geometry is in a geographic CRS. Results from 'centroid' are likely incorrect. Use 'GeoSeries.to_crs()' to re-project geometries to a projected CRS before this operation.\n",
      "\n",
      "  bronx_shape['centroid'] = bronx_shape['geometry'].centroid\n"
     ]
    }
   ],
   "source": [
    "#Reads in shape file - 'bronx_shape'\n",
    "shape_file_path = '../dspg23_reverse_geocoder/Data/tl_2020_36005_tabblock20/tl_2020_36005_tabblock20.shp'\n",
    "bronx_shape = gpd.read_file(shape_file_path)\n",
    "\n",
    "#Creates 'centroid' column based on 'geometry' - gives us latitude and longitude values\n",
    "bronx_shape['centroid'] = bronx_shape['geometry'].centroid\n",
    "\n",
    "#Converts 'GEOID20' column to int, so it can be merged with 'missing_data'\n",
    "bronx_shape['GEOID20']=bronx_shape['GEOID20'].astype(int)"
   ]
  },
  {
   "cell_type": "code",
   "execution_count": 6,
   "id": "e2e92d65",
   "metadata": {},
   "outputs": [
    {
     "name": "stderr",
     "output_type": "stream",
     "text": [
      "/var/folders/8z/5tmywm6s11d187fc5fg_fgb80000gn/T/ipykernel_22220/2210636414.py:11: SettingWithCopyWarning: \n",
      "A value is trying to be set on a copy of a slice from a DataFrame\n",
      "\n",
      "See the caveats in the documentation: https://pandas.pydata.org/pandas-docs/stable/user_guide/indexing.html#returning-a-view-versus-a-copy\n",
      "  merged_df['latitude'][i] = lat\n",
      "/var/folders/8z/5tmywm6s11d187fc5fg_fgb80000gn/T/ipykernel_22220/2210636414.py:12: SettingWithCopyWarning: \n",
      "A value is trying to be set on a copy of a slice from a DataFrame\n",
      "\n",
      "See the caveats in the documentation: https://pandas.pydata.org/pandas-docs/stable/user_guide/indexing.html#returning-a-view-versus-a-copy\n",
      "  merged_df['longitude'][i] = long\n"
     ]
    }
   ],
   "source": [
    "#Merges 'missing_data' with 'bronx_shape' on 'GEOID20' col (left join)\n",
    "merged_df = missing_data.merge(bronx_shape, on='GEOID20', how=\"left\")\n",
    "merged_df = merged_df.drop(['STATEFP20', 'COUNTYFP20', 'TRACTCE20', 'BLOCKCE20', 'NAME20', 'MTFCC20', 'UR20', 'UACE20', 'UATYPE20', 'FUNCSTAT20', 'ALAND20', 'AWATER20', 'INTPTLAT20', 'INTPTLON20', 'geometry'], axis=1)\n",
    "\n",
    "#Poulates 'latitude' and 'longitude' cols of 'merged_df' with lat and long vals from 'centroid'\n",
    "for i in merged_df.index:   \n",
    "    point = merged_df['centroid'][i]\n",
    "    lat = point.y\n",
    "    long = point.x\n",
    "    \n",
    "    merged_df['latitude'][i] = lat\n",
    "    merged_df['longitude'][i] = long\n",
    "    \n",
    "merged_df = merged_df.drop('centroid', axis=1)\n",
    "\n",
    "#Reverse geocodes 'merged_df'\n",
    "reverse_geocode_tool(merged_df)\n",
    "merged_df = merged_df.drop('Geo', axis=1)"
   ]
  },
  {
   "cell_type": "code",
   "execution_count": 7,
   "id": "d51d677d",
   "metadata": {},
   "outputs": [
    {
     "data": {
      "text/plain": [
       "1008"
      ]
     },
     "execution_count": 7,
     "metadata": {},
     "output_type": "execute_result"
    }
   ],
   "source": [
    "#Checks number of 'address' values that are NaN\n",
    "#Should be 1008\n",
    "sum(bronx_data['address'].isna())"
   ]
  },
  {
   "cell_type": "code",
   "execution_count": 8,
   "id": "53982a8a",
   "metadata": {},
   "outputs": [
    {
     "data": {
      "text/plain": [
       "(array([    76,    242,    264, ..., 105440, 105443, 106275]),)"
      ]
     },
     "execution_count": 8,
     "metadata": {},
     "output_type": "execute_result"
    }
   ],
   "source": [
    "np.where(bronx_data['address'].isna())"
   ]
  },
  {
   "cell_type": "code",
   "execution_count": 9,
   "id": "7d4bb293",
   "metadata": {},
   "outputs": [
    {
     "name": "stderr",
     "output_type": "stream",
     "text": [
      "/var/folders/8z/5tmywm6s11d187fc5fg_fgb80000gn/T/ipykernel_22220/1285047586.py:7: SettingWithCopyWarning: \n",
      "A value is trying to be set on a copy of a slice from a DataFrame\n",
      "\n",
      "See the caveats in the documentation: https://pandas.pydata.org/pandas-docs/stable/user_guide/indexing.html#returning-a-view-versus-a-copy\n",
      "  bronx_data['address'][i] = merged_df['address'][merged_df.loc[merged_df['GEOID20']==bronx_data['GEOID20'][i]].index[0]]\n",
      "/var/folders/8z/5tmywm6s11d187fc5fg_fgb80000gn/T/ipykernel_22220/1285047586.py:8: SettingWithCopyWarning: \n",
      "A value is trying to be set on a copy of a slice from a DataFrame\n",
      "\n",
      "See the caveats in the documentation: https://pandas.pydata.org/pandas-docs/stable/user_guide/indexing.html#returning-a-view-versus-a-copy\n",
      "  bronx_data['latitude'][i] = merged_df['latitude'][merged_df.loc[merged_df['GEOID20']==bronx_data['GEOID20'][i]].index[0]]\n",
      "/var/folders/8z/5tmywm6s11d187fc5fg_fgb80000gn/T/ipykernel_22220/1285047586.py:9: SettingWithCopyWarning: \n",
      "A value is trying to be set on a copy of a slice from a DataFrame\n",
      "\n",
      "See the caveats in the documentation: https://pandas.pydata.org/pandas-docs/stable/user_guide/indexing.html#returning-a-view-versus-a-copy\n",
      "  bronx_data['longitude'][i] = merged_df['longitude'][merged_df.loc[merged_df['GEOID20']==bronx_data['GEOID20'][i]].index[0]]\n"
     ]
    }
   ],
   "source": [
    "#Checks if 'address' column in 'bronx_data' is NaN\n",
    "#if so, updates 'address', 'latitude', and 'longitude' columns of 'bronx_data' \n",
    "#with 'address', 'latitude', and 'longitude' columns of 'test_data', based on 'GEOID20'\n",
    "\n",
    "for i in bronx_data.index:\n",
    "    if pd.isna(bronx_data['address'][i]):  \n",
    "        bronx_data['address'][i] = merged_df['address'][merged_df.loc[merged_df['GEOID20']==bronx_data['GEOID20'][i]].index[0]]\n",
    "        bronx_data['latitude'][i] = merged_df['latitude'][merged_df.loc[merged_df['GEOID20']==bronx_data['GEOID20'][i]].index[0]]\n",
    "        bronx_data['longitude'][i] = merged_df['longitude'][merged_df.loc[merged_df['GEOID20']==bronx_data['GEOID20'][i]].index[0]]"
   ]
  },
  {
   "cell_type": "code",
   "execution_count": 10,
   "id": "79ac68cf",
   "metadata": {},
   "outputs": [
    {
     "data": {
      "text/html": [
       "<div>\n",
       "<style scoped>\n",
       "    .dataframe tbody tr th:only-of-type {\n",
       "        vertical-align: middle;\n",
       "    }\n",
       "\n",
       "    .dataframe tbody tr th {\n",
       "        vertical-align: top;\n",
       "    }\n",
       "\n",
       "    .dataframe thead th {\n",
       "        text-align: right;\n",
       "    }\n",
       "</style>\n",
       "<table border=\"1\" class=\"dataframe\">\n",
       "  <thead>\n",
       "    <tr style=\"text-align: right;\">\n",
       "      <th></th>\n",
       "      <th>address</th>\n",
       "      <th>GEOID20</th>\n",
       "      <th>longitude</th>\n",
       "      <th>latitude</th>\n",
       "    </tr>\n",
       "  </thead>\n",
       "  <tbody>\n",
       "    <tr>\n",
       "      <th>0</th>\n",
       "      <td>3001 henry hudson parkway west,bronx,ny,10463</td>\n",
       "      <td>360050301001001</td>\n",
       "      <td>-73.916170</td>\n",
       "      <td>40.882786</td>\n",
       "    </tr>\n",
       "    <tr>\n",
       "      <th>1</th>\n",
       "      <td>3053 henry hudson parkway west,bronx,ny,10463</td>\n",
       "      <td>360050301001001</td>\n",
       "      <td>-73.915858</td>\n",
       "      <td>40.883261</td>\n",
       "    </tr>\n",
       "    <tr>\n",
       "      <th>2</th>\n",
       "      <td>3051 henry hudson parkway west,bronx,ny,10463</td>\n",
       "      <td>360050301001001</td>\n",
       "      <td>-73.915876</td>\n",
       "      <td>40.883211</td>\n",
       "    </tr>\n",
       "    <tr>\n",
       "      <th>3</th>\n",
       "      <td>3055 henry hudson parkway west,bronx,ny,10463</td>\n",
       "      <td>360050301001001</td>\n",
       "      <td>-73.915833</td>\n",
       "      <td>40.883307</td>\n",
       "    </tr>\n",
       "    <tr>\n",
       "      <th>4</th>\n",
       "      <td>3057 henry hudson parkway west,bronx,ny,10463</td>\n",
       "      <td>360050301001001</td>\n",
       "      <td>-73.915808</td>\n",
       "      <td>40.883353</td>\n",
       "    </tr>\n",
       "    <tr>\n",
       "      <th>...</th>\n",
       "      <td>...</td>\n",
       "      <td>...</td>\n",
       "      <td>...</td>\n",
       "      <td>...</td>\n",
       "    </tr>\n",
       "    <tr>\n",
       "      <th>106600</th>\n",
       "      <td>1122 pugsley avenue,bronx,ny,10472</td>\n",
       "      <td>360050078001003</td>\n",
       "      <td>-73.856574</td>\n",
       "      <td>40.829606</td>\n",
       "    </tr>\n",
       "    <tr>\n",
       "      <th>106601</th>\n",
       "      <td>2012 haviland avenue,bronx,ny,10472</td>\n",
       "      <td>360050078001003</td>\n",
       "      <td>-73.856259</td>\n",
       "      <td>40.829611</td>\n",
       "    </tr>\n",
       "    <tr>\n",
       "      <th>106602</th>\n",
       "      <td>2016 haviland avenue,bronx,ny,10472</td>\n",
       "      <td>360050078001003</td>\n",
       "      <td>-73.856139</td>\n",
       "      <td>40.829627</td>\n",
       "    </tr>\n",
       "    <tr>\n",
       "      <th>106603</th>\n",
       "      <td>2014 haviland avenue,bronx,ny,10472</td>\n",
       "      <td>360050078001003</td>\n",
       "      <td>-73.856200</td>\n",
       "      <td>40.829619</td>\n",
       "    </tr>\n",
       "    <tr>\n",
       "      <th>106604</th>\n",
       "      <td>2018 haviland avenue,bronx,ny,10472</td>\n",
       "      <td>360050078001003</td>\n",
       "      <td>-73.856078</td>\n",
       "      <td>40.829635</td>\n",
       "    </tr>\n",
       "  </tbody>\n",
       "</table>\n",
       "<p>106605 rows × 4 columns</p>\n",
       "</div>"
      ],
      "text/plain": [
       "                                              address          GEOID20  \\\n",
       "0       3001 henry hudson parkway west,bronx,ny,10463  360050301001001   \n",
       "1       3053 henry hudson parkway west,bronx,ny,10463  360050301001001   \n",
       "2       3051 henry hudson parkway west,bronx,ny,10463  360050301001001   \n",
       "3       3055 henry hudson parkway west,bronx,ny,10463  360050301001001   \n",
       "4       3057 henry hudson parkway west,bronx,ny,10463  360050301001001   \n",
       "...                                               ...              ...   \n",
       "106600             1122 pugsley avenue,bronx,ny,10472  360050078001003   \n",
       "106601            2012 haviland avenue,bronx,ny,10472  360050078001003   \n",
       "106602            2016 haviland avenue,bronx,ny,10472  360050078001003   \n",
       "106603            2014 haviland avenue,bronx,ny,10472  360050078001003   \n",
       "106604            2018 haviland avenue,bronx,ny,10472  360050078001003   \n",
       "\n",
       "        longitude   latitude  \n",
       "0      -73.916170  40.882786  \n",
       "1      -73.915858  40.883261  \n",
       "2      -73.915876  40.883211  \n",
       "3      -73.915833  40.883307  \n",
       "4      -73.915808  40.883353  \n",
       "...           ...        ...  \n",
       "106600 -73.856574  40.829606  \n",
       "106601 -73.856259  40.829611  \n",
       "106602 -73.856139  40.829627  \n",
       "106603 -73.856200  40.829619  \n",
       "106604 -73.856078  40.829635  \n",
       "\n",
       "[106605 rows x 4 columns]"
      ]
     },
     "execution_count": 10,
     "metadata": {},
     "output_type": "execute_result"
    }
   ],
   "source": [
    "bronx_data"
   ]
  },
  {
   "cell_type": "code",
   "execution_count": 11,
   "id": "ebac7c41",
   "metadata": {},
   "outputs": [
    {
     "data": {
      "text/plain": [
       "0"
      ]
     },
     "execution_count": 11,
     "metadata": {},
     "output_type": "execute_result"
    }
   ],
   "source": [
    "##Checks number of 'address' values that are NaN\n",
    "#Should be 0\n",
    "sum(bronx_data['address'].isna())"
   ]
  },
  {
   "cell_type": "code",
   "execution_count": 12,
   "id": "9c1563cd",
   "metadata": {},
   "outputs": [
    {
     "data": {
      "text/plain": [
       "(array([], dtype=int64),)"
      ]
     },
     "execution_count": 12,
     "metadata": {},
     "output_type": "execute_result"
    }
   ],
   "source": [
    "np.where(bronx_data['address'].isna())"
   ]
  },
  {
   "cell_type": "code",
   "execution_count": 13,
   "id": "20fd9a93",
   "metadata": {},
   "outputs": [],
   "source": [
    "#Saves output df as csv\n",
    "bronx_data.to_csv('../dspg23_reverse_geocoder/36005_updated.csv')"
   ]
  },
  {
   "cell_type": "code",
   "execution_count": null,
   "id": "318b24be",
   "metadata": {},
   "outputs": [],
   "source": []
  }
 ],
 "metadata": {
  "kernelspec": {
   "display_name": "Python 3 (ipykernel)",
   "language": "python",
   "name": "python3"
  },
  "language_info": {
   "codemirror_mode": {
    "name": "ipython",
    "version": 3
   },
   "file_extension": ".py",
   "mimetype": "text/x-python",
   "name": "python",
   "nbconvert_exporter": "python",
   "pygments_lexer": "ipython3",
   "version": "3.9.13"
  }
 },
 "nbformat": 4,
 "nbformat_minor": 5
}
