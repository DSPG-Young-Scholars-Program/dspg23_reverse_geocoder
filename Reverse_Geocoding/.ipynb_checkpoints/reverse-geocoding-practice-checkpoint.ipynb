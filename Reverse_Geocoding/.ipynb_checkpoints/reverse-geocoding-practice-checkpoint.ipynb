{
 "cells": [
  {
   "cell_type": "code",
   "execution_count": 42,
   "id": "6fbf965b",
   "metadata": {},
   "outputs": [
    {
     "name": "stdout",
     "output_type": "stream",
     "text": [
      "Requirement already satisfied: geopy in /Users/marijkevandergeer/opt/anaconda3/lib/python3.9/site-packages (2.3.0)\n",
      "Requirement already satisfied: geographiclib<3,>=1.52 in /Users/marijkevandergeer/opt/anaconda3/lib/python3.9/site-packages (from geopy) (2.0)\n",
      "Note: you may need to restart the kernel to use updated packages.\n"
     ]
    }
   ],
   "source": [
    "pip install geopy"
   ]
  },
  {
   "cell_type": "code",
   "execution_count": 43,
   "id": "5eb6d543",
   "metadata": {},
   "outputs": [],
   "source": [
    "#Install packages\n",
    "from geopy.geocoders import Nominatim\n",
    "from geopy.exc import GeocoderTimedOut\n",
    "from geopy.point import Point\n",
    "\n",
    "import pandas as pd\n",
    "import numpy as np"
   ]
  },
  {
   "cell_type": "code",
   "execution_count": 44,
   "id": "2e07d850",
   "metadata": {},
   "outputs": [],
   "source": [
    "#break into chunks -> check batch size\n",
    "#input = df, output = df"
   ]
  },
  {
   "cell_type": "code",
   "execution_count": 45,
   "id": "62746f4d",
   "metadata": {},
   "outputs": [],
   "source": [
    "#Sample Data\n",
    "\n",
    "#dataframe with Longitude/Latitude columns\n",
    "data = {'Latitude':[38.8977, 40.7128, 38.03374, 32.774799, 38.894637076808095, 48.853981898893686], 'Longitude':[77.0365, -74.0060, -78.50806, -117.071869, -77.07020491294024, 2.328933357693255]}\n",
    "test_data = pd.DataFrame(data)"
   ]
  },
  {
   "cell_type": "code",
   "execution_count": null,
   "id": "b6aa92ac",
   "metadata": {},
   "outputs": [],
   "source": [
    "#More sample data\n",
    "data2 = {'Latitude':[38.897743310721516, 48.853981898893686], 'Longitude':[-77.03646272352393, 2.328933357693255]}\n",
    "test_data2 = pd.DataFrame(data2)"
   ]
  },
  {
   "cell_type": "code",
   "execution_count": 46,
   "id": "ee9db6f7",
   "metadata": {},
   "outputs": [],
   "source": [
    "#More sample data\n",
    "sample3 = pd.read_csv('/Users/marijkevandergeer/Desktop/sample_data.csv')"
   ]
  },
  {
   "cell_type": "code",
   "execution_count": null,
   "id": "568b139e",
   "metadata": {},
   "outputs": [],
   "source": []
  },
  {
   "cell_type": "code",
   "execution_count": 48,
   "id": "01d442d3",
   "metadata": {},
   "outputs": [],
   "source": [
    "def reverse_geocode(latitude, longitude):\n",
    "    geolocator = Nominatim(user_agent=\"reverse_geocoding_tool\")\n",
    "\n",
    "    try:\n",
    "        location = geolocator.reverse((latitude, longitude), language='en')\n",
    "        if location:\n",
    "            return location.address\n",
    "        else:\n",
    "            return \"Address not found\"\n",
    "    except GeocoderTimedOut:\n",
    "        return reverse_geocode(latitude, longitude)  # Retry if timeout occurs\n"
   ]
  },
  {
   "cell_type": "code",
   "execution_count": 57,
   "id": "ca71fb48",
   "metadata": {},
   "outputs": [],
   "source": [
    "#Calls reverse_geocode and adds 'Address' to df\n",
    "#Input is a df with columnss latitude and longitude\n",
    "def reverse_geocode_tool(df):\n",
    "    df['Address'] = df.apply(lambda row: reverse_geocode(row['Latitude'], row['Longitude']), axis=1)\n",
    "    return df"
   ]
  },
  {
   "cell_type": "code",
   "execution_count": null,
   "id": "6a3ca507",
   "metadata": {},
   "outputs": [],
   "source": []
  },
  {
   "cell_type": "code",
   "execution_count": 51,
   "id": "bf3856e2",
   "metadata": {},
   "outputs": [],
   "source": [
    "def main(df):\n",
    "    print(reverse_geocode_tool(df))"
   ]
  },
  {
   "cell_type": "code",
   "execution_count": null,
   "id": "fc87d9d7",
   "metadata": {},
   "outputs": [],
   "source": []
  },
  {
   "cell_type": "code",
   "execution_count": 53,
   "id": "65e96b50",
   "metadata": {
    "scrolled": true
   },
   "outputs": [
    {
     "name": "stdout",
     "output_type": "stream",
     "text": [
      "    Latitude   Longitude                                            Address\n",
      "0  38.897700   77.036500  Yopurga County, Kashgar Prefecture, Xinjiang, ...\n",
      "1  40.712800  -74.006000  The Bridewell, City Hall Park Greenway, Lower ...\n",
      "2  38.033740  -78.508060  Smith Portal, McCormick Road, McCormick Road H...\n",
      "3  32.774799 -117.071869  San Diego State University, 1, Campanile Mall,...\n",
      "4  38.894637  -77.070205  1100, Wilson Boulevard, Rosslyn, Arlington, Ar...\n",
      "5  48.853982    2.328933  Institut d'Études Politiques, Rue de Grenelle,...\n"
     ]
    }
   ],
   "source": [
    "main(test_data)"
   ]
  },
  {
   "cell_type": "code",
   "execution_count": 54,
   "id": "d047a423",
   "metadata": {},
   "outputs": [
    {
     "name": "stdout",
     "output_type": "stream",
     "text": [
      "    Latitude  Longitude                                            Address\n",
      "0  38.897743 -77.036463  Zastava Sjedinjenih Američkih Država, Pennsylv...\n",
      "1  48.853982   2.328933  Institut d'Études Politiques, Rue de Grenelle,...\n"
     ]
    }
   ],
   "source": [
    "main(test_data2)"
   ]
  },
  {
   "cell_type": "code",
   "execution_count": 55,
   "id": "414e85e7",
   "metadata": {},
   "outputs": [
    {
     "name": "stdout",
     "output_type": "stream",
     "text": [
      "     Latitude  Longitude                                            Address\n",
      "0       42.50       1.50     Santa Coloma, Andorra la Vella, AD500, Andorra\n",
      "1       24.00      54.00  Um Laylah, Al Dhafrah Region, Abu Dhabi Emirat...\n",
      "2       33.00      65.00             Baghran, Helmand Province, Afghanistan\n",
      "3       17.05     -61.80  Swetes Wesleyan Holiness Church, Swetes Road, ...\n",
      "4       18.25     -63.17                                           Anguilla\n",
      "..        ...        ...                                                ...\n",
      "235     15.00      48.00  Ad Dale'ah, Ad Dale'ah District, Hadramaut Gov...\n",
      "236    -12.83      45.17  29, GR Tour de Mayotte, Tsararano, Dembéni, Ma...\n",
      "237    -29.00      24.00  Siyancuma Ward 2, Siyancuma Local Municipality...\n",
      "238    -15.00      30.00          Rufunsa District, Lusaka Province, Zambia\n",
      "239    -20.00      30.00            Zvishawane, Midlands Province, Zimbabwe\n",
      "\n",
      "[240 rows x 3 columns]\n"
     ]
    }
   ],
   "source": [
    "main(sample3)"
   ]
  },
  {
   "cell_type": "code",
   "execution_count": null,
   "id": "6054bb9e",
   "metadata": {},
   "outputs": [],
   "source": []
  },
  {
   "cell_type": "code",
   "execution_count": 59,
   "id": "f28f780c",
   "metadata": {},
   "outputs": [
    {
     "data": {
      "text/html": [
       "<div>\n",
       "<style scoped>\n",
       "    .dataframe tbody tr th:only-of-type {\n",
       "        vertical-align: middle;\n",
       "    }\n",
       "\n",
       "    .dataframe tbody tr th {\n",
       "        vertical-align: top;\n",
       "    }\n",
       "\n",
       "    .dataframe thead th {\n",
       "        text-align: right;\n",
       "    }\n",
       "</style>\n",
       "<table border=\"1\" class=\"dataframe\">\n",
       "  <thead>\n",
       "    <tr style=\"text-align: right;\">\n",
       "      <th></th>\n",
       "      <th>Latitude</th>\n",
       "      <th>Longitude</th>\n",
       "      <th>Address</th>\n",
       "    </tr>\n",
       "  </thead>\n",
       "  <tbody>\n",
       "    <tr>\n",
       "      <th>0</th>\n",
       "      <td>38.897700</td>\n",
       "      <td>77.036500</td>\n",
       "      <td>Yopurga County, Kashgar Prefecture, Xinjiang, ...</td>\n",
       "    </tr>\n",
       "    <tr>\n",
       "      <th>1</th>\n",
       "      <td>40.712800</td>\n",
       "      <td>-74.006000</td>\n",
       "      <td>The Bridewell, City Hall Park Greenway, Lower ...</td>\n",
       "    </tr>\n",
       "    <tr>\n",
       "      <th>2</th>\n",
       "      <td>38.033740</td>\n",
       "      <td>-78.508060</td>\n",
       "      <td>Smith Portal, McCormick Road, McCormick Road H...</td>\n",
       "    </tr>\n",
       "    <tr>\n",
       "      <th>3</th>\n",
       "      <td>32.774799</td>\n",
       "      <td>-117.071869</td>\n",
       "      <td>San Diego State University, 1, Campanile Mall,...</td>\n",
       "    </tr>\n",
       "    <tr>\n",
       "      <th>4</th>\n",
       "      <td>38.894637</td>\n",
       "      <td>-77.070205</td>\n",
       "      <td>1100, Wilson Boulevard, Rosslyn, Arlington, Ar...</td>\n",
       "    </tr>\n",
       "    <tr>\n",
       "      <th>5</th>\n",
       "      <td>48.853982</td>\n",
       "      <td>2.328933</td>\n",
       "      <td>Institut d'Études Politiques, Rue de Grenelle,...</td>\n",
       "    </tr>\n",
       "  </tbody>\n",
       "</table>\n",
       "</div>"
      ],
      "text/plain": [
       "    Latitude   Longitude                                            Address\n",
       "0  38.897700   77.036500  Yopurga County, Kashgar Prefecture, Xinjiang, ...\n",
       "1  40.712800  -74.006000  The Bridewell, City Hall Park Greenway, Lower ...\n",
       "2  38.033740  -78.508060  Smith Portal, McCormick Road, McCormick Road H...\n",
       "3  32.774799 -117.071869  San Diego State University, 1, Campanile Mall,...\n",
       "4  38.894637  -77.070205  1100, Wilson Boulevard, Rosslyn, Arlington, Ar...\n",
       "5  48.853982    2.328933  Institut d'Études Politiques, Rue de Grenelle,..."
      ]
     },
     "execution_count": 59,
     "metadata": {},
     "output_type": "execute_result"
    }
   ],
   "source": [
    "reverse_geocode_tool(test_data)"
   ]
  },
  {
   "cell_type": "code",
   "execution_count": 60,
   "id": "453525e5",
   "metadata": {},
   "outputs": [
    {
     "data": {
      "text/html": [
       "<div>\n",
       "<style scoped>\n",
       "    .dataframe tbody tr th:only-of-type {\n",
       "        vertical-align: middle;\n",
       "    }\n",
       "\n",
       "    .dataframe tbody tr th {\n",
       "        vertical-align: top;\n",
       "    }\n",
       "\n",
       "    .dataframe thead th {\n",
       "        text-align: right;\n",
       "    }\n",
       "</style>\n",
       "<table border=\"1\" class=\"dataframe\">\n",
       "  <thead>\n",
       "    <tr style=\"text-align: right;\">\n",
       "      <th></th>\n",
       "      <th>Latitude</th>\n",
       "      <th>Longitude</th>\n",
       "      <th>Address</th>\n",
       "    </tr>\n",
       "  </thead>\n",
       "  <tbody>\n",
       "    <tr>\n",
       "      <th>0</th>\n",
       "      <td>38.897743</td>\n",
       "      <td>-77.036463</td>\n",
       "      <td>Zastava Sjedinjenih Američkih Država, Pennsylv...</td>\n",
       "    </tr>\n",
       "    <tr>\n",
       "      <th>1</th>\n",
       "      <td>48.853982</td>\n",
       "      <td>2.328933</td>\n",
       "      <td>Institut d'Études Politiques, Rue de Grenelle,...</td>\n",
       "    </tr>\n",
       "  </tbody>\n",
       "</table>\n",
       "</div>"
      ],
      "text/plain": [
       "    Latitude  Longitude                                            Address\n",
       "0  38.897743 -77.036463  Zastava Sjedinjenih Američkih Država, Pennsylv...\n",
       "1  48.853982   2.328933  Institut d'Études Politiques, Rue de Grenelle,..."
      ]
     },
     "execution_count": 60,
     "metadata": {},
     "output_type": "execute_result"
    }
   ],
   "source": [
    "reverse_geocode_tool(test_data2)"
   ]
  },
  {
   "cell_type": "code",
   "execution_count": 61,
   "id": "2f1d1dd3",
   "metadata": {},
   "outputs": [
    {
     "data": {
      "text/html": [
       "<div>\n",
       "<style scoped>\n",
       "    .dataframe tbody tr th:only-of-type {\n",
       "        vertical-align: middle;\n",
       "    }\n",
       "\n",
       "    .dataframe tbody tr th {\n",
       "        vertical-align: top;\n",
       "    }\n",
       "\n",
       "    .dataframe thead th {\n",
       "        text-align: right;\n",
       "    }\n",
       "</style>\n",
       "<table border=\"1\" class=\"dataframe\">\n",
       "  <thead>\n",
       "    <tr style=\"text-align: right;\">\n",
       "      <th></th>\n",
       "      <th>Latitude</th>\n",
       "      <th>Longitude</th>\n",
       "      <th>Address</th>\n",
       "    </tr>\n",
       "  </thead>\n",
       "  <tbody>\n",
       "    <tr>\n",
       "      <th>0</th>\n",
       "      <td>42.50</td>\n",
       "      <td>1.50</td>\n",
       "      <td>Santa Coloma, Andorra la Vella, AD500, Andorra</td>\n",
       "    </tr>\n",
       "    <tr>\n",
       "      <th>1</th>\n",
       "      <td>24.00</td>\n",
       "      <td>54.00</td>\n",
       "      <td>Um Laylah, Al Dhafrah Region, Abu Dhabi Emirat...</td>\n",
       "    </tr>\n",
       "    <tr>\n",
       "      <th>2</th>\n",
       "      <td>33.00</td>\n",
       "      <td>65.00</td>\n",
       "      <td>Baghran, Helmand Province, Afghanistan</td>\n",
       "    </tr>\n",
       "    <tr>\n",
       "      <th>3</th>\n",
       "      <td>17.05</td>\n",
       "      <td>-61.80</td>\n",
       "      <td>Swetes Wesleyan Holiness Church, Swetes Road, ...</td>\n",
       "    </tr>\n",
       "    <tr>\n",
       "      <th>4</th>\n",
       "      <td>18.25</td>\n",
       "      <td>-63.17</td>\n",
       "      <td>Anguilla</td>\n",
       "    </tr>\n",
       "    <tr>\n",
       "      <th>...</th>\n",
       "      <td>...</td>\n",
       "      <td>...</td>\n",
       "      <td>...</td>\n",
       "    </tr>\n",
       "    <tr>\n",
       "      <th>235</th>\n",
       "      <td>15.00</td>\n",
       "      <td>48.00</td>\n",
       "      <td>Ad Dale'ah, Ad Dale'ah District, Hadramaut Gov...</td>\n",
       "    </tr>\n",
       "    <tr>\n",
       "      <th>236</th>\n",
       "      <td>-12.83</td>\n",
       "      <td>45.17</td>\n",
       "      <td>29, GR Tour de Mayotte, Tsararano, Dembéni, Ma...</td>\n",
       "    </tr>\n",
       "    <tr>\n",
       "      <th>237</th>\n",
       "      <td>-29.00</td>\n",
       "      <td>24.00</td>\n",
       "      <td>Siyancuma Ward 2, Siyancuma Local Municipality...</td>\n",
       "    </tr>\n",
       "    <tr>\n",
       "      <th>238</th>\n",
       "      <td>-15.00</td>\n",
       "      <td>30.00</td>\n",
       "      <td>Rufunsa District, Lusaka Province, Zambia</td>\n",
       "    </tr>\n",
       "    <tr>\n",
       "      <th>239</th>\n",
       "      <td>-20.00</td>\n",
       "      <td>30.00</td>\n",
       "      <td>Zvishawane, Midlands Province, Zimbabwe</td>\n",
       "    </tr>\n",
       "  </tbody>\n",
       "</table>\n",
       "<p>240 rows × 3 columns</p>\n",
       "</div>"
      ],
      "text/plain": [
       "     Latitude  Longitude                                            Address\n",
       "0       42.50       1.50     Santa Coloma, Andorra la Vella, AD500, Andorra\n",
       "1       24.00      54.00  Um Laylah, Al Dhafrah Region, Abu Dhabi Emirat...\n",
       "2       33.00      65.00             Baghran, Helmand Province, Afghanistan\n",
       "3       17.05     -61.80  Swetes Wesleyan Holiness Church, Swetes Road, ...\n",
       "4       18.25     -63.17                                           Anguilla\n",
       "..        ...        ...                                                ...\n",
       "235     15.00      48.00  Ad Dale'ah, Ad Dale'ah District, Hadramaut Gov...\n",
       "236    -12.83      45.17  29, GR Tour de Mayotte, Tsararano, Dembéni, Ma...\n",
       "237    -29.00      24.00  Siyancuma Ward 2, Siyancuma Local Municipality...\n",
       "238    -15.00      30.00          Rufunsa District, Lusaka Province, Zambia\n",
       "239    -20.00      30.00            Zvishawane, Midlands Province, Zimbabwe\n",
       "\n",
       "[240 rows x 3 columns]"
      ]
     },
     "execution_count": 61,
     "metadata": {},
     "output_type": "execute_result"
    }
   ],
   "source": [
    "reverse_geocode_tool(sample3)"
   ]
  },
  {
   "cell_type": "code",
   "execution_count": null,
   "id": "f85dfe83",
   "metadata": {},
   "outputs": [],
   "source": []
  }
 ],
 "metadata": {
  "kernelspec": {
   "display_name": "Python 3 (ipykernel)",
   "language": "python",
   "name": "python3"
  },
  "language_info": {
   "codemirror_mode": {
    "name": "ipython",
    "version": 3
   },
   "file_extension": ".py",
   "mimetype": "text/x-python",
   "name": "python",
   "nbconvert_exporter": "python",
   "pygments_lexer": "ipython3",
   "version": "3.9.13"
  }
 },
 "nbformat": 4,
 "nbformat_minor": 5
}
